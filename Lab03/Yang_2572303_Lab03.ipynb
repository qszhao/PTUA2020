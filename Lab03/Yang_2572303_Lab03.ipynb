{
 "cells": [
  {
   "cell_type": "markdown",
   "metadata": {},
   "source": [
    "# 2572303 PTUA2021 Lab03"
   ]
  },
  {
   "cell_type": "markdown",
   "metadata": {
    "scrolled": true
   },
   "source": [
    "## Lab03-1 Chapter 2\n",
    "### Exercise 1"
   ]
  },
  {
   "cell_type": "code",
   "execution_count": null,
   "metadata": {},
   "outputs": [],
   "source": [
    "# We’ve seen that n = 42 is legal. What about 42 = n?\n",
    "42 = n\n",
    "print(n)"
   ]
  },
  {
   "cell_type": "code",
   "execution_count": null,
   "metadata": {},
   "outputs": [],
   "source": [
    "# How about x = y = 1?\n",
    "x=y=1\n",
    "print(x)\n",
    "print(y)"
   ]
  },
  {
   "cell_type": "code",
   "execution_count": 83,
   "metadata": {},
   "outputs": [
    {
     "name": "stdout",
     "output_type": "stream",
     "text": [
      "BMI = 21.44127836209856\n"
     ]
    }
   ],
   "source": [
    "# In some languages every statement ends with a semi-colon, ;. What happens if you put a semi-colon at the end of a Python statement?\n",
    "h = 1.79\n",
    "w = 68.7\n",
    "bmi = w/h ** 2\n",
    "print(\"BMI =\",bmi);"
   ]
  },
  {
   "cell_type": "code",
   "execution_count": 84,
   "metadata": {},
   "outputs": [
    {
     "ename": "SyntaxError",
     "evalue": "invalid syntax (<ipython-input-84-907245a7ca28>, line 2)",
     "output_type": "error",
     "traceback": [
      "\u001b[1;36m  File \u001b[1;32m\"<ipython-input-84-907245a7ca28>\"\u001b[1;36m, line \u001b[1;32m2\u001b[0m\n\u001b[1;33m    h = 1.79.\u001b[0m\n\u001b[1;37m             ^\u001b[0m\n\u001b[1;31mSyntaxError\u001b[0m\u001b[1;31m:\u001b[0m invalid syntax\n"
     ]
    }
   ],
   "source": [
    "# What if you put a period at the end of a statement?\n",
    "h = 1.79.\n",
    "w = 68.7.\n",
    "bmi = w/h ** 2.\n",
    "print(\"BMI =\",bmi)."
   ]
  },
  {
   "cell_type": "code",
   "execution_count": 18,
   "metadata": {},
   "outputs": [
    {
     "ename": "SyntaxError",
     "evalue": "invalid syntax (<ipython-input-18-107a6203ef70>, line 3)",
     "output_type": "error",
     "traceback": [
      "\u001b[1;36m  File \u001b[1;32m\"<ipython-input-18-107a6203ef70>\"\u001b[1;36m, line \u001b[1;32m3\u001b[0m\n\u001b[1;33m    print(h w)\u001b[0m\n\u001b[1;37m            ^\u001b[0m\n\u001b[1;31mSyntaxError\u001b[0m\u001b[1;31m:\u001b[0m invalid syntax\n"
     ]
    }
   ],
   "source": [
    "# In math notation you can multiply x and y like this: x y. What happens if you try that in Python?\n",
    "h = 1.79\n",
    "w = 68.7\n",
    "print(h w)"
   ]
  },
  {
   "cell_type": "markdown",
   "metadata": {
    "scrolled": true
   },
   "source": [
    "### Exercise 2"
   ]
  },
  {
   "cell_type": "code",
   "execution_count": 82,
   "metadata": {
    "scrolled": true
   },
   "outputs": [
    {
     "name": "stdout",
     "output_type": "stream",
     "text": [
      "The volum of this sphere is 523.6\n"
     ]
    }
   ],
   "source": [
    "# The volume of a sphere with radius r is 4/3 π r3. What is the volume of a sphere with radius 5?\n",
    "r = 5\n",
    "pi = 3.1415926\n",
    "v = 4/3 * pi * r ** 3\n",
    "print(\"The volum of this sphere is\", round(v,2))"
   ]
  },
  {
   "cell_type": "code",
   "execution_count": 80,
   "metadata": {},
   "outputs": [
    {
     "name": "stdout",
     "output_type": "stream",
     "text": [
      "The wholesale cost is 646.05 $\n"
     ]
    }
   ],
   "source": [
    "# Suppose the cover price of a book is $24.95, but bookstores get a 40% discount. Shipping costs $3 for the first copy and 75 cents for each additional copy. What is the total wholesale cost for 60 copies?\n",
    "# b referes to book price, d refers to 0.4 discount, s1 referes to shipping cost for the first copy, sa refers to shipping cost for each additional copy, n refers to number of books.\n",
    "b = 24.95\n",
    "d = 0.4\n",
    "s1 = 3\n",
    "sa = 0.75\n",
    "n =60\n",
    "c = b * d * n + s1 + (n - 1) * sa\n",
    "print(\"The wholesale cost is\", round(c,2), \"$\")"
   ]
  },
  {
   "cell_type": "code",
   "execution_count": 90,
   "metadata": {},
   "outputs": [
    {
     "name": "stdout",
     "output_type": "stream",
     "text": [
      "Therefore, you will get home at 2021-01-25 07:21:51\n"
     ]
    }
   ],
   "source": [
    "# If I leave my house at 6:52 am and run 1 mile at an easy pace (8:15 per mile), then 3 miles at tempo (7:12 per mile) and 1 mile at easy pace again, what time do I get home for breakfast?\n",
    "# st refers to start time\n",
    "import datetime as dt\n",
    "date = dt.datetime(2021,1,25)\n",
    "tm = dt.time(6, 52)\n",
    "st = dt.datetime.combine(date, tm)\n",
    "p1 = 8 * 60 + 15\n",
    "p2 = 7 * 60 + 12\n",
    "d1 = 1\n",
    "d2 = 3\n",
    "et = st + dt.timedelta(seconds = p1 * d1 + p2 * d2)\n",
    "print(\"Therefore, you will get home at\", et)"
   ]
  },
  {
   "cell_type": "code",
   "execution_count": 97,
   "metadata": {},
   "outputs": [
    {
     "name": "stdout",
     "output_type": "stream",
     "text": [
      "Therefore, you will get home at 7:21:51\n"
     ]
    }
   ],
   "source": [
    "import datetime as dt\n",
    "st = 6*3600 + 52*60\n",
    "p1 = 8 * 60 + 15\n",
    "p2 = 7 * 60 + 12\n",
    "d1 = 1\n",
    "d2 = 3\n",
    "et = dt.timedelta(seconds = st + p1 * d1 + p2 * d2)\n",
    "print(\"Therefore, you will get home at\", et)"
   ]
  },
  {
   "cell_type": "markdown",
   "metadata": {},
   "source": [
    "## Chapter 8\n",
    "### Exercises 1"
   ]
  },
  {
   "cell_type": "code",
   "execution_count": 264,
   "metadata": {},
   "outputs": [
    {
     "data": {
      "text/plain": [
       "'Programming_tools/π\\\\~·1'"
      ]
     },
     "execution_count": 264,
     "metadata": {},
     "output_type": "execute_result"
    }
   ],
   "source": [
    "x = \"progRamming_Tools/Π\\~·1\"\n",
    "str.capitalize(x)"
   ]
  },
  {
   "cell_type": "code",
   "execution_count": 234,
   "metadata": {},
   "outputs": [
    {
     "data": {
      "text/plain": [
       "'programming_tools/π\\\\~·1'"
      ]
     },
     "execution_count": 234,
     "metadata": {},
     "output_type": "execute_result"
    }
   ],
   "source": [
    "str.casefold(x)"
   ]
  },
  {
   "cell_type": "code",
   "execution_count": 235,
   "metadata": {},
   "outputs": [
    {
     "data": {
      "text/plain": [
       "'                                      progRamming_Tools/Π\\\\~·1                                      '"
      ]
     },
     "execution_count": 235,
     "metadata": {},
     "output_type": "execute_result"
    }
   ],
   "source": [
    "x.center(99)"
   ]
  },
  {
   "cell_type": "code",
   "execution_count": 236,
   "metadata": {},
   "outputs": [
    {
     "data": {
      "text/plain": [
       "3"
      ]
     },
     "execution_count": 236,
     "metadata": {},
     "output_type": "execute_result"
    }
   ],
   "source": [
    "x.count(\"o\")"
   ]
  },
  {
   "cell_type": "code",
   "execution_count": 237,
   "metadata": {},
   "outputs": [
    {
     "data": {
      "text/plain": [
       "1"
      ]
     },
     "execution_count": 237,
     "metadata": {},
     "output_type": "execute_result"
    }
   ],
   "source": [
    "x.count(\"o\",2,5)"
   ]
  },
  {
   "cell_type": "code",
   "execution_count": 238,
   "metadata": {},
   "outputs": [
    {
     "data": {
      "text/plain": [
       "b'progRamming_Tools/\\xce\\xa0\\\\~\\xc2\\xb71'"
      ]
     },
     "execution_count": 238,
     "metadata": {},
     "output_type": "execute_result"
    }
   ],
   "source": [
    "x.encode()"
   ]
  },
  {
   "cell_type": "code",
   "execution_count": 239,
   "metadata": {},
   "outputs": [
    {
     "data": {
      "text/plain": [
       "True"
      ]
     },
     "execution_count": 239,
     "metadata": {},
     "output_type": "execute_result"
    }
   ],
   "source": [
    "x.endswith(\"1\")"
   ]
  },
  {
   "cell_type": "code",
   "execution_count": 240,
   "metadata": {},
   "outputs": [
    {
     "data": {
      "text/plain": [
       "False"
      ]
     },
     "execution_count": 240,
     "metadata": {},
     "output_type": "execute_result"
    }
   ],
   "source": [
    "x.endswith(\"1\",2,9)"
   ]
  },
  {
   "cell_type": "code",
   "execution_count": 241,
   "metadata": {},
   "outputs": [
    {
     "data": {
      "text/plain": [
       "6"
      ]
     },
     "execution_count": 241,
     "metadata": {},
     "output_type": "execute_result"
    }
   ],
   "source": [
    "x.find(\"m\")"
   ]
  },
  {
   "cell_type": "code",
   "execution_count": 242,
   "metadata": {},
   "outputs": [
    {
     "data": {
      "text/plain": [
       "\"The sum of 'a'+'b' is ab\""
      ]
     },
     "execution_count": 242,
     "metadata": {},
     "output_type": "execute_result"
    }
   ],
   "source": [
    "\"The sum of 'a'+'b' is {}\".format('a'+'b')"
   ]
  },
  {
   "cell_type": "code",
   "execution_count": 243,
   "metadata": {},
   "outputs": [
    {
     "data": {
      "text/plain": [
       "15"
      ]
     },
     "execution_count": 243,
     "metadata": {},
     "output_type": "execute_result"
    }
   ],
   "source": [
    "x.index(\"l\")"
   ]
  },
  {
   "cell_type": "code",
   "execution_count": 259,
   "metadata": {},
   "outputs": [
    {
     "data": {
      "text/plain": [
       "'1'"
      ]
     },
     "execution_count": 259,
     "metadata": {},
     "output_type": "execute_result"
    }
   ],
   "source": [
    "'abc'.join('1')"
   ]
  },
  {
   "cell_type": "code",
   "execution_count": 245,
   "metadata": {},
   "outputs": [
    {
     "data": {
      "text/plain": [
       "'programming_tools/π\\\\~·1'"
      ]
     },
     "execution_count": 245,
     "metadata": {},
     "output_type": "execute_result"
    }
   ],
   "source": [
    "x.lower()"
   ]
  },
  {
   "cell_type": "code",
   "execution_count": 246,
   "metadata": {},
   "outputs": [
    {
     "data": {
      "text/plain": [
       "'prjgRamming_Tjjls/Π\\\\~·1'"
      ]
     },
     "execution_count": 246,
     "metadata": {},
     "output_type": "execute_result"
    }
   ],
   "source": [
    "x.replace(\"o\",\"j\")"
   ]
  },
  {
   "cell_type": "code",
   "execution_count": 248,
   "metadata": {},
   "outputs": [
    {
     "data": {
      "text/plain": [
       "'gRamming_Tools/Π\\\\~·1'"
      ]
     },
     "execution_count": 248,
     "metadata": {},
     "output_type": "execute_result"
    }
   ],
   "source": [
    "x.strip(\"pro\")"
   ]
  },
  {
   "cell_type": "code",
   "execution_count": 249,
   "metadata": {},
   "outputs": [
    {
     "data": {
      "text/plain": [
       "'Programming_Tools/Π\\\\~·1'"
      ]
     },
     "execution_count": 249,
     "metadata": {},
     "output_type": "execute_result"
    }
   ],
   "source": [
    "x.title()"
   ]
  },
  {
   "cell_type": "markdown",
   "metadata": {},
   "source": [
    "### Exercise 2"
   ]
  },
  {
   "cell_type": "code",
   "execution_count": 263,
   "metadata": {},
   "outputs": [
    {
     "data": {
      "text/plain": [
       "3"
      ]
     },
     "execution_count": 263,
     "metadata": {},
     "output_type": "execute_result"
    }
   ],
   "source": [
    "\"banana\".count(\"a\")"
   ]
  },
  {
   "cell_type": "markdown",
   "metadata": {},
   "source": [
    "### Exercise 3"
   ]
  },
  {
   "cell_type": "code",
   "execution_count": 5,
   "metadata": {},
   "outputs": [
    {
     "name": "stdout",
     "output_type": "stream",
     "text": [
      "True\n",
      "False\n"
     ]
    }
   ],
   "source": [
    "def is_palindrome(word):\n",
    "    \"Returns True if word is a palindrome.\"\n",
    "    if word == word[::-1]:\n",
    "        return True\n",
    "    else:\n",
    "        return False\n",
    "    \n",
    "print(is_palindrome('otto'))\n",
    "print(is_palindrome('banana'))"
   ]
  },
  {
   "cell_type": "markdown",
   "metadata": {},
   "source": [
    "### Exercise 4"
   ]
  },
  {
   "cell_type": "code",
   "execution_count": 27,
   "metadata": {},
   "outputs": [
    {
     "name": "stdout",
     "output_type": "stream",
     "text": [
      "True\n",
      "False\n",
      "This function just checks whether the first character of a string is lowercase or not, it donesn't check the string\n"
     ]
    }
   ],
   "source": [
    "def any_lowercase1(s):\n",
    "    for c in s:\n",
    "        if c.islower():\n",
    "            return True\n",
    "        else:\n",
    "            return False\n",
    "\n",
    "print(any_lowercase1('aFsdfaa'))\n",
    "print(any_lowercase1('Afsdaad'))\n",
    "print(\"This function just checks whether the first character of a string is lowercase or not, it donesn't check the string\")"
   ]
  },
  {
   "cell_type": "code",
   "execution_count": 28,
   "metadata": {},
   "outputs": [
    {
     "name": "stdout",
     "output_type": "stream",
     "text": [
      "True\n",
      "True\n",
      "True\n",
      "This function checks nothing, its result will always be Ture.\n"
     ]
    }
   ],
   "source": [
    "def any_lowercase2(s):\n",
    "    for c in s:\n",
    "        if 'c'.islower():\n",
    "            return 'True'\n",
    "        else:\n",
    "            return 'False'\n",
    "        \n",
    "print(any_lowercase2('fAsd'))\n",
    "print(any_lowercase2('A'))\n",
    "print(any_lowercase2('cCc'))\n",
    "print(\"This function checks nothing, its result will always be Ture.\")"
   ]
  },
  {
   "cell_type": "code",
   "execution_count": 35,
   "metadata": {},
   "outputs": [
    {
     "name": "stdout",
     "output_type": "stream",
     "text": [
      "True\n",
      "False\n",
      "True\n",
      "This function checks whether the last character of a string is lowercase or not.\n"
     ]
    }
   ],
   "source": [
    "def any_lowercase3(s):\n",
    "    for c in s:\n",
    "        flag = c.islower()\n",
    "    return flag\n",
    "\n",
    "print(any_lowercase3('Adf'))\n",
    "print(any_lowercase3('asdF'))\n",
    "print(any_lowercase3('aSdf'))\n",
    "print(\"This function checks whether the last character of a string is lowercase or not.\")"
   ]
  },
  {
   "cell_type": "code",
   "execution_count": 44,
   "metadata": {},
   "outputs": [
    {
     "name": "stdout",
     "output_type": "stream",
     "text": [
      "True\n",
      "True\n",
      "False\n",
      "This function do checks whether a string contains any lowercse letters.\n"
     ]
    }
   ],
   "source": [
    "def any_lowercase4(s):\n",
    "    flag = False\n",
    "    for c in s:\n",
    "        flag = flag or c.islower()\n",
    "    return flag\n",
    "\n",
    "print(any_lowercase4(\"sdfA\"))\n",
    "print(any_lowercase4(\"asdf\"))\n",
    "print(any_lowercase4('AAA'))\n",
    "print(\"This function do checks whether a string contains any lowercse letters.\")"
   ]
  },
  {
   "cell_type": "code",
   "execution_count": 54,
   "metadata": {
    "scrolled": false
   },
   "outputs": [
    {
     "name": "stdout",
     "output_type": "stream",
     "text": [
      "True\n",
      "False\n",
      "This function checks whether all of the charaters in a string are lowercase letters.\n"
     ]
    }
   ],
   "source": [
    "def any_lowercase5(s):\n",
    "    for c in s:\n",
    "        if not c.islower():\n",
    "            return False\n",
    "    return True\n",
    "print(any_lowercase5(\"as\"))\n",
    "print(any_lowercase5('ADa'))\n",
    "print(\"This function checks whether all of the charaters in a string are lowercase letters.\")"
   ]
  },
  {
   "cell_type": "markdown",
   "metadata": {},
   "source": [
    "### Exercise 5"
   ]
  },
  {
   "cell_type": "code",
   "execution_count": 124,
   "metadata": {},
   "outputs": [
    {
     "name": "stdout",
     "output_type": "stream",
     "text": [
      "Hal#1\n"
     ]
    }
   ],
   "source": [
    "def rotate_letter(letter, n):\n",
    "    if letter.isupper():\n",
    "        start = ord('A')\n",
    "    elif letter.islower():\n",
    "        start = ord('a')\n",
    "    else:\n",
    "        return letter\n",
    "\n",
    "    c = ord(letter) - start\n",
    "    i = (c + n) % 26 + start\n",
    "    return chr(i)\n",
    "\n",
    "def rotate_word(s, n):\n",
    "    word = ''\n",
    "    for letter in s:\n",
    "        word += rotate_letter(letter, n)\n",
    "    return word\n",
    "print(rotate_word('Ibm#1',-27))"
   ]
  },
  {
   "cell_type": "markdown",
   "metadata": {},
   "source": [
    "## Lab03-2"
   ]
  },
  {
   "cell_type": "markdown",
   "metadata": {},
   "source": [
    "### Extend the Python notebook from class to prompt the user for two input values"
   ]
  },
  {
   "cell_type": "code",
   "execution_count": 39,
   "metadata": {},
   "outputs": [
    {
     "name": "stdout",
     "output_type": "stream",
     "text": [
      "Enter convergence criterion0.001\n",
      "Enter a sentinel value80\n",
      "4.0\n",
      "4.0\n",
      "4.0\n",
      "4.0\n",
      "4.0\n",
      "3.3333333333333335\n",
      "3.4285714285714284\n",
      "3.5\n",
      "3.5555555555555554\n",
      "3.2\n",
      "3.272727272727273\n",
      "3.3333333333333335\n",
      "3.3846153846153846\n",
      "3.4285714285714284\n",
      "3.466666666666667\n",
      "3.5\n",
      "3.5294117647058822\n",
      "3.5555555555555554\n",
      "3.5789473684210527\n",
      "3.6\n",
      "3.4285714285714284\n",
      "3.4545454545454546\n",
      "3.3043478260869565\n",
      "3.3333333333333335\n",
      "3.36\n",
      "3.3846153846153846\n",
      "3.259259259259259\n",
      "3.2857142857142856\n",
      "3.1724137931034484\n",
      "3.2\n",
      "3.225806451612903\n",
      "3.25\n",
      "3.272727272727273\n",
      "3.2941176470588234\n",
      "3.2\n",
      "3.2222222222222223\n",
      "3.2432432432432434\n",
      "3.263157894736842\n",
      "3.282051282051282\n",
      "3.3\n",
      "3.317073170731707\n",
      "3.3333333333333335\n",
      "3.3488372093023258\n",
      "3.3636363636363638\n",
      "3.3777777777777778\n",
      "3.3043478260869565\n",
      "3.3191489361702127\n",
      "3.3333333333333335\n",
      "3.3469387755102042\n",
      "3.36\n",
      "3.372549019607843\n",
      "3.3076923076923075\n",
      "3.3207547169811322\n",
      "3.3333333333333335\n",
      "3.3454545454545452\n",
      "3.357142857142857\n",
      "3.3684210526315788\n",
      "3.3793103448275863\n",
      "3.389830508474576\n",
      "3.4\n",
      "3.4098360655737703\n",
      "3.3548387096774195\n",
      "3.365079365079365\n",
      "3.375\n",
      "3.3846153846153846\n",
      "3.393939393939394\n",
      "3.4029850746268657\n",
      "3.411764705882353\n",
      "3.420289855072464\n",
      "3.4285714285714284\n",
      "3.436619718309859\n",
      "3.4444444444444446\n",
      "3.3972602739726026\n",
      "3.4054054054054053\n",
      "3.4133333333333336\n",
      "3.4210526315789473\n",
      "3.4285714285714284\n",
      "3.4358974358974357\n",
      "3.392405063291139\n",
      "3.4\n",
      "Draw limit was exceeded and the percentage difference between the current estimate of Pi and the true value is 0.0822536130248883\n"
     ]
    }
   ],
   "source": [
    "import random\n",
    "import math\n",
    "import numpy as np\n",
    "\n",
    "pi = math.pi # our benchmark that we want to estimate using simulation\n",
    "n = 0\n",
    "d = 0\n",
    "c = float(input('Enter convergence criterion'))\n",
    "s = float(input('Enter a sentinel value'))\n",
    "while d < s:\n",
    "    x = random.random()\n",
    "    y = random.random()\n",
    "    if x**2 + y**2 <= 1.0:\n",
    "        n += 1\n",
    "    d += 1\n",
    "    ratio = 4 * n * 1./d\n",
    "    \n",
    "    print (ratio)\n",
    "    c1 = abs(ratio-pi) / pi\n",
    "    if c1 <= c:\n",
    "        break\n",
    "if d < s:\n",
    "    print(\"Draw needed\", d, \"and the percentage difference between the current estimate of Pi and the true value is\", c)\n",
    "else:\n",
    "    print (\"Draw limit was exceeded and the percentage difference between the current estimate of Pi and the true value is\", c1)"
   ]
  },
  {
   "cell_type": "code",
   "execution_count": 40,
   "metadata": {},
   "outputs": [
    {
     "data": {
      "text/plain": [
       "80"
      ]
     },
     "execution_count": 40,
     "metadata": {},
     "output_type": "execute_result"
    }
   ],
   "source": [
    "d"
   ]
  },
  {
   "cell_type": "markdown",
   "metadata": {},
   "source": [
    "### Convergence criteria is 0.01"
   ]
  },
  {
   "cell_type": "code",
   "execution_count": 34,
   "metadata": {},
   "outputs": [
    {
     "name": "stdout",
     "output_type": "stream",
     "text": [
      "Enter convergence criterion0.01\n",
      "Distribution of the numeber of draws is [9, 14, 18, 19, 23, 24, 27, 28, 32, 36]\n",
      "Average number of draws 23.0\n",
      "Standard deviation of the number of draws is 7.81\n"
     ]
    }
   ],
   "source": [
    "n = 0\n",
    "d = 0\n",
    "i = 1\n",
    "draws = []\n",
    "c = float(input('Enter convergence criterion'))\n",
    "while i <= 10:\n",
    "    simulating = True\n",
    "    while simulating:\n",
    "        x = random.random()\n",
    "        y = random.random()\n",
    "        if x**2 + y**2 <= 1.0:\n",
    "            n += 1\n",
    "        d += 1\n",
    "        ratio = 4 * n * 1./d\n",
    "        \n",
    "        c1 = abs(ratio-pi) / pi\n",
    "        if c1 <= c:\n",
    "            draws.append(d)\n",
    "            break\n",
    "    i += 1\n",
    "print(\"Distribution of the numeber of draws is\", draws)\n",
    "print(\"Average number of draws\", np.mean(draws))\n",
    "print(\"Standard deviation of the number of draws is\", round(np.std(draws),2))"
   ]
  },
  {
   "cell_type": "markdown",
   "metadata": {},
   "source": [
    "### Convergence criteria is 0.001"
   ]
  },
  {
   "cell_type": "code",
   "execution_count": 35,
   "metadata": {},
   "outputs": [
    {
     "name": "stdout",
     "output_type": "stream",
     "text": [
      "Enter convergence criterion0.001\n",
      "Distribution of the numeber of draws is [260, 261, 284, 285, 288, 293, 294, 302, 303, 313]\n",
      "Average number of draws 288.3\n",
      "Standard deviation of the number of draws is 16.26\n"
     ]
    }
   ],
   "source": [
    "n = 0\n",
    "d = 0\n",
    "i = 1\n",
    "draws = []\n",
    "c = float(input('Enter convergence criterion'))\n",
    "while i <= 10:\n",
    "    simulating = True\n",
    "    while simulating:\n",
    "        x = random.random()\n",
    "        y = random.random()\n",
    "        if x**2 + y**2 <= 1.0:\n",
    "            n += 1\n",
    "        d += 1\n",
    "        ratio = 4 * n * 1./d\n",
    "        \n",
    "        c1 = abs(ratio-pi) / pi\n",
    "        if c1 <= c:\n",
    "            draws.append(d)\n",
    "            break\n",
    "    i += 1\n",
    "print(\"Distribution of the numeber of draws is\", draws)\n",
    "print(\"Average number of draws\", np.mean(draws))\n",
    "print(\"Standard deviation of the number of draws is\", round(np.std(draws),2))"
   ]
  },
  {
   "cell_type": "markdown",
   "metadata": {},
   "source": [
    "### Convergence criteria is 0.0001"
   ]
  },
  {
   "cell_type": "code",
   "execution_count": 36,
   "metadata": {},
   "outputs": [
    {
     "name": "stdout",
     "output_type": "stream",
     "text": [
      "Enter convergence criterion0.0001\n",
      "Distribution of the numeber of draws is [1263, 1267, 1323, 1864, 1868, 1873, 1878, 1892, 1896, 1897]\n",
      "Average number of draws 1702.1\n",
      "Standard deviation of the number of draws is 274.11\n"
     ]
    }
   ],
   "source": [
    "n = 0\n",
    "d = 0\n",
    "i = 1\n",
    "draws = []\n",
    "c = float(input('Enter convergence criterion'))\n",
    "while i <= 10:\n",
    "    simulating = True\n",
    "    while simulating:\n",
    "        x = random.random()\n",
    "        y = random.random()\n",
    "        if x**2 + y**2 <= 1.0:\n",
    "            n += 1\n",
    "        d += 1\n",
    "        ratio = 4 * n * 1./d\n",
    "        \n",
    "        c1 = abs(ratio-pi) / pi\n",
    "        if c1 <= c:\n",
    "            draws.append(d)\n",
    "            break\n",
    "    i += 1\n",
    "print(\"Distribution of the numeber of draws is\", draws)\n",
    "print(\"Average number of draws\", np.mean(draws))\n",
    "print(\"Standard deviation of the number of draws is\", round(np.std(draws),2))"
   ]
  },
  {
   "cell_type": "markdown",
   "metadata": {},
   "source": [
    "### Convergence criteria is 0.00001"
   ]
  },
  {
   "cell_type": "code",
   "execution_count": 37,
   "metadata": {},
   "outputs": [
    {
     "name": "stdout",
     "output_type": "stream",
     "text": [
      "Enter convergence criterion0.00001\n",
      "Distribution of the numeber of draws is [11486, 15326, 15331, 15335, 15340, 15694, 17465, 19226, 33335, 33336]\n",
      "Average number of draws 19187.4\n",
      "Standard deviation of the number of draws is 7309.22\n"
     ]
    }
   ],
   "source": [
    "n = 0\n",
    "d = 0\n",
    "i = 1\n",
    "draws = []\n",
    "c = float(input('Enter convergence criterion'))\n",
    "while i <= 10:\n",
    "    simulating = True\n",
    "    while simulating:\n",
    "        x = random.random()\n",
    "        y = random.random()\n",
    "        if x**2 + y**2 <= 1.0:\n",
    "            n += 1\n",
    "        d += 1\n",
    "        ratio = 4 * n * 1./d\n",
    "        \n",
    "        c1 = abs(ratio-pi) / pi\n",
    "        if c1 <= c:\n",
    "            draws.append(d)\n",
    "            break\n",
    "    i += 1\n",
    "print(\"Distribution of the numeber of draws is\", draws)\n",
    "print(\"Average number of draws\", np.mean(draws))\n",
    "print(\"Standard deviation of the number of draws is\", round(np.std(draws),2))"
   ]
  },
  {
   "cell_type": "code",
   "execution_count": null,
   "metadata": {},
   "outputs": [],
   "source": []
  }
 ],
 "metadata": {
  "kernelspec": {
   "display_name": "Python 3",
   "language": "python",
   "name": "python3"
  },
  "language_info": {
   "codemirror_mode": {
    "name": "ipython",
    "version": 3
   },
   "file_extension": ".py",
   "mimetype": "text/x-python",
   "name": "python",
   "nbconvert_exporter": "python",
   "pygments_lexer": "ipython3",
   "version": "3.8.5"
  }
 },
 "nbformat": 4,
 "nbformat_minor": 4
}
