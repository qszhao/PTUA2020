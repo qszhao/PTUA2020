{
 "cells": [
  {
   "cell_type": "markdown",
   "metadata": {},
   "source": [
    "# Lab03-1 \n",
    "\n",
    "## Chapter 2 Exercise 1"
   ]
  },
  {
   "cell_type": "code",
   "execution_count": 3,
   "metadata": {},
   "outputs": [
    {
     "ename": "SyntaxError",
     "evalue": "cannot assign to literal (<ipython-input-3-f0c37ed646fc>, line 1)",
     "output_type": "error",
     "traceback": [
      "\u001b[1;36m  File \u001b[1;32m\"<ipython-input-3-f0c37ed646fc>\"\u001b[1;36m, line \u001b[1;32m1\u001b[0m\n\u001b[1;33m    42 = n\u001b[0m\n\u001b[1;37m    ^\u001b[0m\n\u001b[1;31mSyntaxError\u001b[0m\u001b[1;31m:\u001b[0m cannot assign to literal\n"
     ]
    }
   ],
   "source": [
    "# We’ve seen that n = 42 is legal. What about 42 = n?\n",
    "42 = n"
   ]
  },
  {
   "cell_type": "code",
   "execution_count": 4,
   "metadata": {},
   "outputs": [
    {
     "name": "stdout",
     "output_type": "stream",
     "text": [
      "1\n",
      "1\n"
     ]
    }
   ],
   "source": [
    "# How about x = y = 1?\n",
    "x = y = 1\n",
    "print(x)\n",
    "print(y)"
   ]
  },
  {
   "cell_type": "code",
   "execution_count": 9,
   "metadata": {},
   "outputs": [
    {
     "name": "stdout",
     "output_type": "stream",
     "text": [
      "42\n"
     ]
    }
   ],
   "source": [
    "# In some languages every statement ends with a semi-colon, ;. What happens if you put a semi-colon at the end of a Python statement?\n",
    "n = 42\n",
    "print(n);"
   ]
  },
  {
   "cell_type": "code",
   "execution_count": 12,
   "metadata": {
    "scrolled": true
   },
   "outputs": [
    {
     "ename": "SyntaxError",
     "evalue": "invalid syntax (<ipython-input-12-761b8cd691b5>, line 2)",
     "output_type": "error",
     "traceback": [
      "\u001b[1;36m  File \u001b[1;32m\"<ipython-input-12-761b8cd691b5>\"\u001b[1;36m, line \u001b[1;32m2\u001b[0m\n\u001b[1;33m    print(n).\u001b[0m\n\u001b[1;37m             ^\u001b[0m\n\u001b[1;31mSyntaxError\u001b[0m\u001b[1;31m:\u001b[0m invalid syntax\n"
     ]
    }
   ],
   "source": [
    "# What if you put a period at the end of a statement?\n",
    "n = 42\n",
    "print(n)."
   ]
  },
  {
   "cell_type": "code",
   "execution_count": 5,
   "metadata": {
    "scrolled": true
   },
   "outputs": [
    {
     "ename": "SyntaxError",
     "evalue": "invalid syntax (<ipython-input-5-4101b7ffcaf4>, line 4)",
     "output_type": "error",
     "traceback": [
      "\u001b[1;36m  File \u001b[1;32m\"<ipython-input-5-4101b7ffcaf4>\"\u001b[1;36m, line \u001b[1;32m4\u001b[0m\n\u001b[1;33m    print(x y)\u001b[0m\n\u001b[1;37m            ^\u001b[0m\n\u001b[1;31mSyntaxError\u001b[0m\u001b[1;31m:\u001b[0m invalid syntax\n"
     ]
    }
   ],
   "source": [
    "# In math notation you can multiply x and y like this: x y. What happens if you try that in Python?\n",
    "x = 3\n",
    "y = 2\n",
    "print(x y)"
   ]
  },
  {
   "cell_type": "markdown",
   "metadata": {},
   "source": [
    "## Chapter 2 Exercise 2"
   ]
  },
  {
   "cell_type": "code",
   "execution_count": 6,
   "metadata": {},
   "outputs": [
    {
     "name": "stdout",
     "output_type": "stream",
     "text": [
      "104.71975511965977\n"
     ]
    }
   ],
   "source": [
    "# The volume of a sphere with radius r is 4/3 π r3. What is the volume of a sphere with radius 5?\n",
    "import random\n",
    "import math\n",
    "import matplotlib.pyplot as plt\n",
    "r = 5\n",
    "pi = math.pi\n",
    "S = 4/3*pi*r**2\n",
    "print(S)"
   ]
  },
  {
   "cell_type": "code",
   "execution_count": 7,
   "metadata": {},
   "outputs": [
    {
     "name": "stdout",
     "output_type": "stream",
     "text": [
      "471.555\n"
     ]
    }
   ],
   "source": [
    "# Suppose the cover price of a book is $24.95, but bookstores get a 40% discount. Shipping costs $3 for the first copy and 75 cents for each additional copy. What is the total wholesale cost for 60 copies?\n",
    "Sum = 24.95*0.4*(3+0.75*59)\n",
    "print(Sum)"
   ]
  },
  {
   "cell_type": "code",
   "execution_count": 48,
   "metadata": {},
   "outputs": [
    {
     "name": "stdout",
     "output_type": "stream",
     "text": [
      "Start Time: 6:52:00\n",
      "Running Time: 0:38:06\n",
      "Breakfast Time: 7:30:06\n"
     ]
    }
   ],
   "source": [
    "# If I leave my house at 6:52 am and run 1 mile at an easy pace (8:15 per mile), then 3 miles at tempo (7:12 per mile) and 1 mile at easy pace again, what time do I get home for breakfast?\n",
    "import datetime\n",
    "StartTime = datetime.timedelta(hours = 6,minutes = 52)\n",
    "print(\"Start Time:\", StartTime)\n",
    "t1 = datetime.timedelta(minutes = 1*8+3*7+1*8, seconds = 1*15+3*12+1*15)\n",
    "print(\"Running Time:\", t1)\n",
    "print(\"Breakfast Time:\", StartTime + t1)"
   ]
  },
  {
   "cell_type": "markdown",
   "metadata": {},
   "source": [
    "## Chapter 8 Exercise 1"
   ]
  },
  {
   "cell_type": "code",
   "execution_count": 49,
   "metadata": {},
   "outputs": [
    {
     "data": {
      "text/plain": [
       "'xue wang'"
      ]
     },
     "execution_count": 49,
     "metadata": {},
     "output_type": "execute_result"
    }
   ],
   "source": [
    "# Make sure you understand how the string methods work. strip and replace are particularly useful.\n",
    "# str.strip([chars])\n",
    "# Return a copy of the string with the leading and trailing characters removed. The chars argument is a string specifying the set of characters to be removed. If omitted or None, the chars argument defaults to removing whitespace. The chars argument is not a prefix or suffix; rather, all combinations of its values are stripped:\n",
    "'  xue wang      '.strip()"
   ]
  },
  {
   "cell_type": "code",
   "execution_count": 50,
   "metadata": {},
   "outputs": [
    {
     "data": {
      "text/plain": [
       "'xue wang'"
      ]
     },
     "execution_count": 50,
     "metadata": {},
     "output_type": "execute_result"
    }
   ],
   "source": [
    "'  xue wang...'.strip(' .')"
   ]
  },
  {
   "cell_type": "code",
   "execution_count": 10,
   "metadata": {},
   "outputs": [
    {
     "name": "stdout",
     "output_type": "stream",
     "text": [
      "apple, banana\n"
     ]
    }
   ],
   "source": [
    "# str.replace(old, new[, count])\n",
    "# Return a copy of the string with all occurrences of substring old replaced by new. If the optional argument count is given, only the first count occurrences are replaced.\n",
    "n1 = 'appie, banana'\n",
    "n2 = n1.replace('i','l')\n",
    "print(n2)"
   ]
  },
  {
   "cell_type": "code",
   "execution_count": 12,
   "metadata": {},
   "outputs": [
    {
     "name": "stdout",
     "output_type": "stream",
     "text": [
      "b'fbc'\n"
     ]
    }
   ],
   "source": [
    "a = b\"abc\"\n",
    "b = a.replace(b\"a\", b\"f\")\n",
    "print(b)"
   ]
  },
  {
   "cell_type": "markdown",
   "metadata": {},
   "source": [
    "## Chapter 8 Exercise 2"
   ]
  },
  {
   "cell_type": "code",
   "execution_count": 34,
   "metadata": {
    "scrolled": true
   },
   "outputs": [
    {
     "name": "stdout",
     "output_type": "stream",
     "text": [
      "3\n",
      "3\n"
     ]
    }
   ],
   "source": [
    "#There is a string method called count that is similar to the function in Section 8.7. Read the documentation of this method and write an invocation that counts the number of a’s in 'banana'.\n",
    "word = 'banana'\n",
    "count = 0\n",
    "for letter in word:\n",
    "    if letter == 'a':\n",
    "        count = count +1\n",
    "print(count)\n",
    "print('banana'.count('a'))"
   ]
  },
  {
   "cell_type": "markdown",
   "metadata": {},
   "source": [
    "## Chapter 8 Exercise 3"
   ]
  },
  {
   "cell_type": "code",
   "execution_count": 21,
   "metadata": {},
   "outputs": [
    {
     "data": {
      "text/plain": [
       "False"
      ]
     },
     "execution_count": 21,
     "metadata": {},
     "output_type": "execute_result"
    }
   ],
   "source": [
    "# Write a function called is_palindrome that takes a string argument and returns True if it is a palindrome and False otherwise. Remember that you can use the built-in function len to check the length of a string.\n",
    "def is_palindrome(word):\n",
    "    return word == word[::-1]\n",
    "\n",
    "is_palindrome('apple')"
   ]
  },
  {
   "cell_type": "code",
   "execution_count": 20,
   "metadata": {},
   "outputs": [
    {
     "data": {
      "text/plain": [
       "True"
      ]
     },
     "execution_count": 20,
     "metadata": {},
     "output_type": "execute_result"
    }
   ],
   "source": [
    "is_palindrome('bananab')"
   ]
  },
  {
   "cell_type": "markdown",
   "metadata": {},
   "source": [
    "## Chapter 8 Exercise 4"
   ]
  },
  {
   "cell_type": "code",
   "execution_count": 22,
   "metadata": {},
   "outputs": [],
   "source": [
    "# The following functions are all intended to check whether a string contains any lowercase letters, but at least some of them are wrong. For each function, describe what the function actually does (assuming that the parameter is a string).\n",
    "def any_lowercase1(s):\n",
    "    for c in s:\n",
    "        if c.islower():\n",
    "            return True\n",
    "        else:\n",
    "            return False\n",
    "# The function is used to test\n",
    "\n",
    "def any_lowercase2(s):\n",
    "    for c in s:\n",
    "        if 'c'.islower():\n",
    "            return 'True'\n",
    "        else:\n",
    "            return 'False'\n",
    "\n",
    "def any_lowercase3(s):\n",
    "    for c in s:\n",
    "        flag = c.islower()\n",
    "    return flag\n",
    "\n",
    "def any_lowercase4(s):\n",
    "    flag = False\n",
    "    for c in s:\n",
    "        flag = flag or c.islower()\n",
    "    return flag\n",
    "\n",
    "def any_lowercase5(s):\n",
    "    for c in s:\n",
    "        if not c.islower():\n",
    "            return False\n",
    "    return True"
   ]
  },
  {
   "cell_type": "markdown",
   "metadata": {},
   "source": [
    "## Chapter 8 Exercise 5"
   ]
  },
  {
   "cell_type": "code",
   "execution_count": 28,
   "metadata": {},
   "outputs": [
    {
     "name": "stdout",
     "output_type": "stream",
     "text": [
      "one\n"
     ]
    }
   ],
   "source": [
    "# Write a function called rotate_word that takes a string and an integer as parameters, and returns a new string that contains the letters from the original string rotated by the given amount.\n",
    "def rotate_word(word, n):\n",
    "    \"\"\"Rotates a word by n places.\n",
    "    word: string\n",
    "    n: integer\n",
    "    Returns: string\n",
    "    \"\"\"\n",
    "    mes = ''\n",
    "    for letter in word:\n",
    "        mes += rotate_letter(letter, n)\n",
    "    return mes\n",
    "\n",
    "print(rotate_word('edu', 10))"
   ]
  },
  {
   "cell_type": "markdown",
   "metadata": {},
   "source": [
    "# Lab03-2 \n",
    "\n",
    "## Exercise 1"
   ]
  },
  {
   "cell_type": "code",
   "execution_count": 72,
   "metadata": {},
   "outputs": [
    {
     "name": "stdout",
     "output_type": "stream",
     "text": [
      "Pi is: 3.141592653589793\n",
      "enter the convergence criterion:0.0001\n",
      "enter the maximum number of draws:99\n",
      "the current estimate of Pi is: 3.24\n",
      "Draw limit was exceeded, the percentage difference between the current estimate of Pi and the true value is: 3.1324031235481886 %\n"
     ]
    }
   ],
   "source": [
    "# Extend the Python notebook from class to prompt the user for two input values\n",
    "## The convergence criterion (i.e., percentage difference for stopping the loop)\n",
    "## A sentinel value that limits the number of draws to avoid a long running program. Once the number of draws reaches this value you should have the program stop and print a message that draw limit was exceeded and report the percentage difference between the current estimate of Pi and the true value.\n",
    "import random\n",
    "import math\n",
    "import matplotlib.pyplot as plt\n",
    "\n",
    "pi = math.pi\n",
    "print(\"Pi is:\", pi)\n",
    "\n",
    "def cal_pi(cc, maxdraw):\n",
    "    n = 0\n",
    "    d = 0\n",
    "    simulating = True\n",
    "    while d <= maxdraw:\n",
    "        x = random.random()\n",
    "        y = random.random()\n",
    "        if x**2 + y**2 <= 1.0:\n",
    "            n += 1\n",
    "        d += 1\n",
    "        ratio = 4 * n * 1./d\n",
    "        percentage = abs(ratio-pi)/pi*100\n",
    "        if abs(ratio-pi) / pi <= cc:\n",
    "            print(\"Draws needed:\", d)\n",
    "            print(\"The current estimate of Pi is:\",ratio)\n",
    "            break\n",
    "    else:\n",
    "        print(\"The current estimate of Pi is:\",ratio)\n",
    "        print(\"Draw limit was exceeded, the percentage difference between the current estimate of Pi and the true value is:\", percentage,\"%\")\n",
    "        return\n",
    "cc = float(input(\"Enter the convergence criterion:\"))\n",
    "maxdraw = float(input(\"Enter the maximum number of draws:\"))\n",
    "cal_pi(cc, maxdraw)"
   ]
  },
  {
   "cell_type": "markdown",
   "metadata": {},
   "source": [
    "## Exercise 2"
   ]
  },
  {
   "cell_type": "code",
   "execution_count": 104,
   "metadata": {},
   "outputs": [
    {
     "name": "stdout",
     "output_type": "stream",
     "text": [
      "Draws needed: 19\n",
      "The current estimate of Pi is: 3.1578947368421053\n",
      "Draws needed: 23\n",
      "The current estimate of Pi is: 3.130434782608696\n",
      "Draws needed: 24\n",
      "The current estimate of Pi is: 3.1666666666666665\n",
      "Draws needed: 774\n",
      "The current estimate of Pi is: 3.111111111111111\n",
      "Draws needed: 775\n",
      "The current estimate of Pi is: 3.112258064516129\n",
      "Draws needed: 783\n",
      "The current estimate of Pi is: 3.111111111111111\n",
      "Draws needed: 784\n",
      "The current estimate of Pi is: 3.1122448979591835\n",
      "Draws needed: 785\n",
      "The current estimate of Pi is: 3.113375796178344\n",
      "Draws needed: 786\n",
      "The current estimate of Pi is: 3.114503816793893\n",
      "Draws needed: 787\n",
      "The current estimate of Pi is: 3.1156289707750955\n",
      "When the convergence criterion is 0.01, the average number of draws from 10 runs is 554.0 the standard deviation of the number of draws from 10 runs is 348.3018805576565\n"
     ]
    }
   ],
   "source": [
    "# For different values of the convergence criteria [0.01, 0.001, 0.0001, 0.00001] generate 10 estimates of Pi.\n",
    "# For the four different convergence criteria have your script print the following statistics\n",
    "## average number of draws required from the 10 runs\n",
    "## standard deviation of the number of draws required from the 10 runs.\n",
    "from numpy import mean, std\n",
    "\n",
    "### cc = 0.01\n",
    "count = 0\n",
    "n = 0\n",
    "d = 0\n",
    "draw = []\n",
    "while count < 10:\n",
    "    simulating = True\n",
    "    while simulating:\n",
    "        x = random.random()\n",
    "        y = random.random()\n",
    "        if x**2 + y**2 <= 1.0:\n",
    "            n += 1\n",
    "        d += 1\n",
    "        ratio = 4 * n * 1./d\n",
    "        if abs(ratio-pi) / pi <= 0.01:\n",
    "            print(\"Draws needed:\", d)\n",
    "            print(\"The current estimate of Pi is:\",ratio)\n",
    "            draw.append(d)\n",
    "            break\n",
    "    count += 1\n",
    "print('When the convergence criterion is 0.01, the average number of draws from 10 runs is',mean(draw),\"the standard deviation of the number of draws from 10 runs is\",std(draw))"
   ]
  },
  {
   "cell_type": "code",
   "execution_count": 107,
   "metadata": {},
   "outputs": [
    {
     "name": "stdout",
     "output_type": "stream",
     "text": [
      "Draws needed: 24818\n",
      "The current estimate of Pi is: 3.1446530743814973\n",
      "Draws needed: 24819\n",
      "The current estimate of Pi is: 3.1445263709255005\n",
      "Draws needed: 24820\n",
      "The current estimate of Pi is: 3.1445608380338435\n",
      "Draws needed: 24821\n",
      "The current estimate of Pi is: 3.144595302364933\n",
      "Draws needed: 24822\n",
      "The current estimate of Pi is: 3.144629763919104\n",
      "Draws needed: 24823\n",
      "The current estimate of Pi is: 3.1446642226966928\n",
      "Draws needed: 24824\n",
      "The current estimate of Pi is: 3.144537544311956\n",
      "Draws needed: 24825\n",
      "The current estimate of Pi is: 3.1444108761329304\n",
      "Draws needed: 24826\n",
      "The current estimate of Pi is: 3.144445339563361\n",
      "Draws needed: 24827\n",
      "The current estimate of Pi is: 3.144479800217505\n",
      "When the convergence criterion is 0.001, the average number of draws from 10 runs is 24822.5 the standard deviation of the number of draws from 10 runs is 2.8722813232690143\n"
     ]
    }
   ],
   "source": [
    "### cc = 0.001\n",
    "count = 0\n",
    "n = 0\n",
    "d = 0\n",
    "draw = []\n",
    "while count < 10:\n",
    "    simulating = True\n",
    "    while simulating:\n",
    "        x = random.random()\n",
    "        y = random.random()\n",
    "        if x**2 + y**2 <= 1.0:\n",
    "            n += 1\n",
    "        d += 1\n",
    "        ratio = 4 * n * 1./d\n",
    "        if abs(ratio-pi) / pi <= 0.001:\n",
    "            print(\"Draws needed:\", d)\n",
    "            print(\"The current estimate of Pi is:\",ratio)\n",
    "            draw.append(d)\n",
    "            break\n",
    "    count += 1\n",
    "print('When the convergence criterion is 0.001, the average number of draws from 10 runs is',mean(draw),\"the standard deviation of the number of draws from 10 runs is\",std(draw))"
   ]
  },
  {
   "cell_type": "code",
   "execution_count": 109,
   "metadata": {},
   "outputs": [
    {
     "name": "stdout",
     "output_type": "stream",
     "text": [
      "Draws needed: 2357\n",
      "The current estimate of Pi is: 3.141281289775138\n",
      "Draws needed: 2358\n",
      "The current estimate of Pi is: 3.1416454622561494\n",
      "Draws needed: 2362\n",
      "The current estimate of Pi is: 3.1414055884843353\n",
      "Draws needed: 2363\n",
      "The current estimate of Pi is: 3.141768937790944\n",
      "Draws needed: 2371\n",
      "The current estimate of Pi is: 3.1412905946857865\n",
      "Draws needed: 2376\n",
      "The current estimate of Pi is: 3.1414141414141414\n",
      "Draws needed: 1044819\n",
      "The current estimate of Pi is: 3.141279015791252\n",
      "Draws needed: 1044820\n",
      "The current estimate of Pi is: 3.141279837675389\n",
      "Draws needed: 1044833\n",
      "The current estimate of Pi is: 3.141279036937003\n",
      "Draws needed: 1044837\n",
      "The current estimate of Pi is: 3.141278496071636\n",
      "When the convergence criterion is 0.0001, the average number of draws from 10 runs is 419349.6 the standard deviation of the number of draws from 10 runs is 510700.3627236229\n"
     ]
    }
   ],
   "source": [
    "### cc = 0.0001\n",
    "count = 0\n",
    "n = 0\n",
    "d = 0\n",
    "draw = []\n",
    "while count < 10:\n",
    "    simulating = True\n",
    "    while simulating:\n",
    "        x = random.random()\n",
    "        y = random.random()\n",
    "        if x**2 + y**2 <= 1.0:\n",
    "            n += 1\n",
    "        d += 1\n",
    "        ratio = 4 * n * 1./d\n",
    "        if abs(ratio-pi) / pi <= 0.0001:\n",
    "            print(\"Draws needed:\", d)\n",
    "            print(\"The current estimate of Pi is:\",ratio)\n",
    "            draw.append(d)\n",
    "            break\n",
    "    count += 1\n",
    "print('When the convergence criterion is 0.0001, the average number of draws from 10 runs is',mean(draw),\"the standard deviation of the number of draws from 10 runs is\",std(draw))"
   ]
  },
  {
   "cell_type": "code",
   "execution_count": 110,
   "metadata": {},
   "outputs": [
    {
     "name": "stdout",
     "output_type": "stream",
     "text": [
      "Draws needed: 5340\n",
      "The current estimate of Pi is: 3.141573033707865\n",
      "Draws needed: 5368\n",
      "The current estimate of Pi is: 3.1415797317436662\n",
      "Draws needed: 5466\n",
      "The current estimate of Pi is: 3.141602634467618\n",
      "Draws needed: 5480\n",
      "The current estimate of Pi is: 3.141605839416058\n",
      "Draws needed: 5517\n",
      "The current estimate of Pi is: 3.141562443356897\n",
      "Draws needed: 5522\n",
      "The current estimate of Pi is: 3.141615356754799\n",
      "Draws needed: 5559\n",
      "The current estimate of Pi is: 3.1415722252203633\n",
      "Draws needed: 5713\n",
      "The current estimate of Pi is: 3.1416068615438473\n",
      "Draws needed: 5969\n",
      "The current estimate of Pi is: 3.141564751214609\n",
      "Draws needed: 53213\n",
      "The current estimate of Pi is: 3.141563151861387\n",
      "When the convergence criterion is 0.00001, the average number of draws from 10 runs is 10314.7 the standard deviation of the number of draws from 10 runs is 14300.458636351494\n"
     ]
    }
   ],
   "source": [
    "### cc = 0.00001\n",
    "count = 0\n",
    "n = 0\n",
    "d = 0\n",
    "draw = []\n",
    "while count < 10:\n",
    "    simulating = True\n",
    "    while simulating:\n",
    "        x = random.random()\n",
    "        y = random.random()\n",
    "        if x**2 + y**2 <= 1.0:\n",
    "            n += 1\n",
    "        d += 1\n",
    "        ratio = 4 * n * 1./d\n",
    "        if abs(ratio-pi) / pi <= 0.00001:\n",
    "            print(\"Draws needed:\", d)\n",
    "            print(\"The current estimate of Pi is:\",ratio)\n",
    "            draw.append(d)\n",
    "            break\n",
    "    count += 1\n",
    "print('When the convergence criterion is 0.00001, the average number of draws from 10 runs is',mean(draw),\"the standard deviation of the number of draws from 10 runs is\",std(draw))"
   ]
  }
 ],
 "metadata": {
  "kernelspec": {
   "display_name": "Python 3",
   "language": "python",
   "name": "python3"
  },
  "language_info": {
   "codemirror_mode": {
    "name": "ipython",
    "version": 3
   },
   "file_extension": ".py",
   "mimetype": "text/x-python",
   "name": "python",
   "nbconvert_exporter": "python",
   "pygments_lexer": "ipython3",
   "version": "3.8.5"
  }
 },
 "nbformat": 4,
 "nbformat_minor": 4
}
