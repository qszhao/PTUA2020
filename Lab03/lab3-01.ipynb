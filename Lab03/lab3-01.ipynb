{
 "cells": [
  {
   "cell_type": "markdown",
   "metadata": {},
   "source": [
    "# Practice"
   ]
  },
  {
   "cell_type": "code",
   "execution_count": 3,
   "metadata": {},
   "outputs": [
    {
     "name": "stdout",
     "output_type": "stream",
     "text": [
      "Hello World\n",
      "[1, 2, 4]\n",
      "['Hi', 4, [1, 2, 4, 5]]\n",
      "range(0, 6)\n",
      "5\n"
     ]
    }
   ],
   "source": [
    "x1 = \"Hello World\"\n",
    "x2 = [1,2,4]\n",
    "x3 = [\"Hi\", 4, [1,2,4,5]]\n",
    "# define a range\n",
    "x4 = range(6)\n",
    "# define a number\n",
    "x5 = 5\n",
    "print(x1)\n",
    "print(x2)\n",
    "print(x3)\n",
    "print(x4)\n",
    "print(x5)"
   ]
  },
  {
   "cell_type": "code",
   "execution_count": 4,
   "metadata": {},
   "outputs": [
    {
     "name": "stdout",
     "output_type": "stream",
     "text": [
      "<class 'str'>\n",
      "<class 'list'>\n",
      "<class 'list'>\n",
      "<class 'range'>\n",
      "<class 'int'>\n"
     ]
    }
   ],
   "source": [
    "print(type(x1))\n",
    "print(type(x2))\n",
    "print(type(x3))\n",
    "print(type(x4))\n",
    "print(type(x5))"
   ]
  },
  {
   "cell_type": "code",
   "execution_count": 5,
   "metadata": {},
   "outputs": [
    {
     "name": "stdout",
     "output_type": "stream",
     "text": [
      "['Hi', 4, [1, 2, 4, 5], 4]\n"
     ]
    }
   ],
   "source": [
    "x3.append(4)\n",
    "print(x3)\n"
   ]
  },
  {
   "cell_type": "code",
   "execution_count": 6,
   "metadata": {},
   "outputs": [
    {
     "name": "stdout",
     "output_type": "stream",
     "text": [
      "{1: 'Orange', 2: 'Pair'}\n"
     ]
    }
   ],
   "source": [
    "x5={1:\"Orange\",2:\"Pair\"}\n",
    "print(x5)"
   ]
  },
  {
   "cell_type": "code",
   "execution_count": 7,
   "metadata": {},
   "outputs": [
    {
     "name": "stdout",
     "output_type": "stream",
     "text": [
      "Orange\n",
      "Pair\n",
      "{1: 'Orange', 2: 'Water Melon'}\n",
      "{1: 'Orange', 2: 'Water Melon', 4: 'Mango'}\n"
     ]
    }
   ],
   "source": [
    "print(x5[1])\n",
    "print(x5[2])\n",
    "x5[2]=\"Water Melon\"\n",
    "print(x5)\n",
    "x5[4]=\"Mango\"\n",
    "print(x5)"
   ]
  },
  {
   "cell_type": "code",
   "execution_count": 8,
   "metadata": {},
   "outputs": [
    {
     "name": "stdout",
     "output_type": "stream",
     "text": [
      "string 'a' is:  Hello World!\n",
      "Lowercase of string 'a':  hello world!\n",
      "Uppercase of string 'a': HELLO WORLD!\n",
      "'a' split by space becomes: ['Hello', 'World!']\n"
     ]
    }
   ],
   "source": [
    "a = \"Hello World!\" \n",
    "print(\"string 'a' is: \", a)\n",
    "b = a.lower()\n",
    "print(\"Lowercase of string 'a': \", b)\n",
    "c = a.upper()\n",
    "print(\"Uppercase of string 'a':\",c)\n",
    "print(\"'a' split by space becomes:\", a.split(\" \"))"
   ]
  },
  {
   "cell_type": "code",
   "execution_count": 9,
   "metadata": {},
   "outputs": [
    {
     "name": "stdout",
     "output_type": "stream",
     "text": [
      "thislist is: ['freshman', 'sophomore', 'junior', 'senior']\n"
     ]
    }
   ],
   "source": [
    "thislist = [\"freshman\", \"sophomore\",\"junior\", \"senior\"]\n",
    "print(\"thislist is:\", thislist)"
   ]
  },
  {
   "cell_type": "code",
   "execution_count": 10,
   "metadata": {},
   "outputs": [
    {
     "name": "stdout",
     "output_type": "stream",
     "text": [
      "S\n",
      "e\n",
      "n\n",
      "i\n",
      "o\n",
      "r\n"
     ]
    }
   ],
   "source": [
    "for x in \"Senior\":\n",
    "  print(x)"
   ]
  },
  {
   "cell_type": "code",
   "execution_count": 12,
   "metadata": {},
   "outputs": [
    {
     "name": "stdout",
     "output_type": "stream",
     "text": [
      "string 'a' is: Hello World\n",
      "Lowercase of string 'a': hello world\n",
      "Uppercase of string 'a': HELLO WORLD\n",
      "'a' spilt by space becomes: ['Hello', 'World']\n"
     ]
    }
   ],
   "source": [
    "a=\"Hello World\"\n",
    "print(\"string 'a' is:\",a)\n",
    "b=a.lower()\n",
    "print(\"Lowercase of string 'a':\", b)\n",
    "c=a.upper()\n",
    "print(\"Uppercase of string 'a':\",c)\n",
    "print(\"'a' spilt by space becomes:\",a.split(\" \"))"
   ]
  },
  {
   "cell_type": "markdown",
   "metadata": {},
   "source": [
    "# Exercise"
   ]
  },
  {
   "cell_type": "code",
   "execution_count": 20,
   "metadata": {},
   "outputs": [
    {
     "name": "stdout",
     "output_type": "stream",
     "text": [
      "42\n"
     ]
    }
   ],
   "source": [
    "n=42\n",
    "print(n)\n"
   ]
  },
  {
   "cell_type": "code",
   "execution_count": 21,
   "metadata": {},
   "outputs": [
    {
     "ename": "SyntaxError",
     "evalue": "can't assign to literal (<ipython-input-21-be08c0cf3ef1>, line 1)",
     "output_type": "error",
     "traceback": [
      "\u001b[1;36m  File \u001b[1;32m\"<ipython-input-21-be08c0cf3ef1>\"\u001b[1;36m, line \u001b[1;32m1\u001b[0m\n\u001b[1;33m    42=n\u001b[0m\n\u001b[1;37m        ^\u001b[0m\n\u001b[1;31mSyntaxError\u001b[0m\u001b[1;31m:\u001b[0m can't assign to literal\n"
     ]
    }
   ],
   "source": [
    "42=n\n",
    "n"
   ]
  },
  {
   "cell_type": "code",
   "execution_count": 23,
   "metadata": {},
   "outputs": [
    {
     "data": {
      "text/plain": [
       "523.5987755833333"
      ]
     },
     "execution_count": 23,
     "metadata": {},
     "output_type": "execute_result"
    }
   ],
   "source": [
    "pi=3.1415926535\n",
    "v_r5=4/3*pi*5**3\n",
    "v_r5\n"
   ]
  },
  {
   "cell_type": "code",
   "execution_count": 29,
   "metadata": {},
   "outputs": [
    {
     "data": {
      "text/plain": [
       "62.22"
      ]
     },
     "execution_count": 29,
     "metadata": {},
     "output_type": "execute_result"
    }
   ],
   "source": [
    "single_price=24.95*0.6\n",
    "r=60\n",
    "total_price=3+0.75*(r-1)+single_price\n",
    "total_price\n",
    "\n"
   ]
  },
  {
   "cell_type": "code",
   "execution_count": 39,
   "metadata": {},
   "outputs": [
    {
     "data": {
      "text/plain": [
       "'2020-01-27-07:30:06'"
      ]
     },
     "execution_count": 39,
     "metadata": {},
     "output_type": "execute_result"
    }
   ],
   "source": [
    "import datetime\n",
    "now=datetime.datetime(2020,1,27,6,52)\n",
    "arrive=now+datetime.timedelta(hours=0,minutes=8+7*3+8,seconds=15+12*3+15)\n",
    "arrive.strftime(\"%Y-%m-%d-%H:%M:%S\")"
   ]
  },
  {
   "cell_type": "code",
   "execution_count": null,
   "metadata": {},
   "outputs": [],
   "source": []
  }
 ],
 "metadata": {
  "kernelspec": {
   "display_name": "Python 3",
   "language": "python",
   "name": "python3"
  },
  "language_info": {
   "codemirror_mode": {
    "name": "ipython",
    "version": 3
   },
   "file_extension": ".py",
   "mimetype": "text/x-python",
   "name": "python",
   "nbconvert_exporter": "python",
   "pygments_lexer": "ipython3",
   "version": "3.7.4"
  }
 },
 "nbformat": 4,
 "nbformat_minor": 2
}
