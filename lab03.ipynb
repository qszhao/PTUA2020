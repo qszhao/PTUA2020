{
 "cells": [
  {
   "cell_type": "code",
   "execution_count": 8,
   "metadata": {},
   "outputs": [],
   "source": [
    "import random\n",
    "import math\n",
    "import matplotlib.pyplot as plt"
   ]
  },
  {
   "cell_type": "code",
   "execution_count": 9,
   "metadata": {},
   "outputs": [],
   "source": [
    "pi = math.pi # our benchmark that we want to estimate using simulation"
   ]
  },
  {
   "cell_type": "code",
   "execution_count": 93,
   "metadata": {},
   "outputs": [
    {
     "name": "stdout",
     "output_type": "stream",
     "text": [
      "And now for something completely different 17 3.141592653589793\n"
     ]
    }
   ],
   "source": [
    "message = 'And now for something completely different'\n",
    "n = 17\n",
    "pi1 = 3.1415926535897932\n",
    "print(message,n,pi);"
   ]
  },
  {
   "cell_type": "code",
   "execution_count": 94,
   "metadata": {},
   "outputs": [],
   "source": [
    "#Exercise 1 in chapter2\n",
    "#1.NO\n",
    "#2 Legal\n",
    "#3.Do not change\n",
    "#4.invalid syntax\n",
    "#5.The name of a variable"
   ]
  },
  {
   "cell_type": "code",
   "execution_count": 95,
   "metadata": {},
   "outputs": [],
   "source": [
    "x=y=1;"
   ]
  },
  {
   "cell_type": "code",
   "execution_count": 96,
   "metadata": {},
   "outputs": [],
   "source": [
    "#Exercise 2 in chapter2"
   ]
  },
  {
   "cell_type": "code",
   "execution_count": 97,
   "metadata": {},
   "outputs": [
    {
     "name": "stdout",
     "output_type": "stream",
     "text": [
      "25.132741228718345\n"
     ]
    }
   ],
   "source": [
    "ball_Volume=4/3*pi*float(5^3)\n",
    "print(ball_Volume)"
   ]
  },
  {
   "cell_type": "code",
   "execution_count": 98,
   "metadata": {},
   "outputs": [
    {
     "name": "stdout",
     "output_type": "stream",
     "text": [
      "The total wholesale cost for 60 copies is 945.4499999999999\n"
     ]
    }
   ],
   "source": [
    "price=24.95\n",
    "discount=0.6\n",
    "book=60\n",
    "shipping_cost=3+(book-1)*0.75\n",
    "total_price=price*discount*book+shipping_cost\n",
    "print('The total wholesale cost for 60 copies is',total_price)"
   ]
  },
  {
   "cell_type": "code",
   "execution_count": 99,
   "metadata": {},
   "outputs": [
    {
     "name": "stdout",
     "output_type": "stream",
     "text": [
      "90\n",
      "Breakfast time is 7 : 31 : 6\n"
     ]
    }
   ],
   "source": [
    "time=8*60*2+15*2+7*3*60+12*3\n",
    "m, s = divmod(time, 60)\n",
    "h, m = divmod(m, 60)\n",
    "h,m,s\n",
    "time1=6*60*60+52*60\n",
    "m1, s1 = divmod(time1, 60)\n",
    "h1, m1 = divmod(m1, 60)\n",
    "print(m1+m)\n",
    "s2=s1+s\n",
    "if s2>60:\n",
    "   s2=s2-60\n",
    "   m1=m1+1\n",
    "   m2=m1+m\n",
    "   if s2>60:\n",
    "      h=h+1\n",
    "      h2=h1+h\n",
    "   else:\n",
    "      h2=h1+h\n",
    "else:\n",
    "   m1=m1+1\n",
    "   m2=m1+m\n",
    "   if m2>60:\n",
    "      h=h+1\n",
    "      h2=h1+h\n",
    "      m2=m2-60\n",
    "   else:\n",
    "      h2=h1+h\n",
    "print('Breakfast time is',h2,':',m2,':',s2)"
   ]
  },
  {
   "cell_type": "code",
   "execution_count": 100,
   "metadata": {},
   "outputs": [
    {
     "name": "stdout",
     "output_type": "stream",
     "text": [
      "Hello world!\n",
      "i love python\n",
      "i love python\n",
      "gross - α\n",
      "groß - α\n",
      "****hello world!****\n",
      "str.count('o') :  2\n",
      "str.count('run', 0, 5) :  1\n",
      "b'hello world!'\n",
      "True\n",
      "False\n",
      "01 012   0123  01234\n",
      "4\n",
      "7\n",
      "-1\n"
     ]
    }
   ],
   "source": [
    "#Exercise 1 in chapter8\n",
    "#Return a copy of the string with its first character capitalized and the rest lowercased\n",
    "str='hello world!'\n",
    "cap_str=str.capitalize()\n",
    "print(cap_str)\n",
    "#Casefolding is similar to lowercasing but more aggressive because it is intended to remove all case distinctions in a string.\n",
    "str1 = \"I Love Python\"\n",
    "str2 = \"Groß - α\" #German capitalized ß—ss\n",
    "print(str1.casefold())\n",
    "print(str1.lower())\n",
    "print(str2.casefold())\n",
    "print(str2.lower())\n",
    "#str.center(width[, fillchar]) \n",
    "#width-the total width of the string\n",
    "#fillchar-fill character\n",
    "print(str.center(20,'*'))\n",
    "#Used to count the number of occurrences of a character in a string. \n",
    "sub='o'\n",
    "print (\"str.count('o') : \", str.count(sub))\n",
    "sub='o'\n",
    "print (\"str.count('run', 0, 5) : \", str.count(sub,0,5))\n",
    "#encode\n",
    "print(str.encode(encoding=\"utf-8\", errors=\"strict\"))\n",
    "#Return True if the string ends with the specified suffix, otherwise return False\n",
    "suf='!'\n",
    "print(str.endswith(suf))\n",
    "print(str.endswith(suf,0,11))\n",
    "#Return a copy of the string where all tab characters are replaced by one or more spaces\n",
    "#01 has 2 characters, and the following \\t is filled with 1 space\n",
    "print('01\\t012\\t0123\\t01234'.expandtabs(3))\n",
    "#Return the lowest index in the string where substring sub is found within the slice s[start:end].\n",
    "print(str.find(sub))\n",
    "print(str.find(sub,5,10))\n",
    "print(str.find(sub,8,10))"
   ]
  },
  {
   "cell_type": "code",
   "execution_count": 3,
   "metadata": {},
   "outputs": [
    {
     "name": "stdout",
     "output_type": "stream",
     "text": [
      "<class 'str'> QLD\n",
      "20190301classxiaomingsorce：597.5\n",
      "20190301classxiaomingsorce：597.5\n",
      "4\n",
      "True\n",
      "True\n",
      "True\n",
      "False\n",
      "False\n",
      "True\n",
      "False\n",
      "True\n"
     ]
    }
   ],
   "source": [
    "#Exercise 1 in chapter8\n",
    "#Perform a string formatting operation.\n",
    "print(str,'{0}'.format('QLD'))\n",
    "#Different between format and format_map,format_map does not need to copy the dict\n",
    "student={'name':'xiaoming','class':'20190301','score':597.5}\n",
    "print('{st[class]}class{st[name]}sorce：{st[score]}'.format(st=student))\n",
    "print('{class}class{name}sorce：{score}'.format_map(student))\n",
    "#Like find(), but raise ValueError when the substring is not found.\n",
    "str='helloworld'\n",
    "sub='o'\n",
    "#Determine the string type\n",
    "print(str.index(sub))\n",
    "print(str.isalnum())\n",
    "print(str.isalpha())\n",
    "print(str.isascii())\n",
    "print(str.isdecimal())\n",
    "print(str.isdigit())\n",
    "from keyword import iskeyword\n",
    "print(str.isidentifier())\n",
    "print(iskeyword(str))\n",
    "print(iskeyword('def'))"
   ]
  },
  {
   "cell_type": "code",
   "execution_count": 102,
   "metadata": {},
   "outputs": [
    {
     "name": "stdout",
     "output_type": "stream",
     "text": [
      "3\n"
     ]
    }
   ],
   "source": [
    "#Exercise 2 in chapter8\n",
    "str='banana'\n",
    "print(str.count('a'))"
   ]
  },
  {
   "cell_type": "code",
   "execution_count": 73,
   "metadata": {},
   "outputs": [
    {
     "name": "stdout",
     "output_type": "stream",
     "text": [
      "bnn\n",
      "yifudhsegwfgananab\n",
      "False\n"
     ]
    }
   ],
   "source": [
    "#Exercise 3 in chapter8\n",
    "strtype='bananagfwgeshdufiy'\n",
    "print(strtype[0:5:2])\n",
    "def palindrome(string):\n",
    "    return string[::-1] \n",
    "print(palindrome(strtype))\n",
    "def is_palindrome1(string):\n",
    "    return string == string[::-1]\n",
    "print(is_palindrome1(strtype))"
   ]
  },
  {
   "cell_type": "code",
   "execution_count": 9,
   "metadata": {},
   "outputs": [
    {
     "name": "stdout",
     "output_type": "stream",
     "text": [
      "yifudhsegwfgananab\n",
      "bananagfwgeshdufiy\n"
     ]
    }
   ],
   "source": [
    "strtype='bananagfwgeshdufiy'\n",
    "def palindrome(string):\n",
    "    return string[::-1] \n",
    "print(palindrome(strtype))\n",
    "def palindrome1(string):\n",
    "    string == string[::-1]\n",
    "    return string \n",
    "print(is_palindrome2(strtype))"
   ]
  },
  {
   "cell_type": "code",
   "execution_count": 127,
   "metadata": {},
   "outputs": [
    {
     "name": "stdout",
     "output_type": "stream",
     "text": [
      "True\n",
      "True\n",
      "True\n",
      "True\n",
      "True\n"
     ]
    }
   ],
   "source": [
    "#Exercise 4 in chapter8\n",
    "strtest='hello world'\n",
    "def any_lowercase1(s):\n",
    "    for c in s:\n",
    "        if c.islower():\n",
    "            return True\n",
    "        else:\n",
    "            return False\n",
    "\n",
    "def any_lowercase2(s):\n",
    "    for c in s:\n",
    "        if 'c'.islower():\n",
    "            return 'True'\n",
    "        else:\n",
    "            return 'False'\n",
    "\n",
    "def any_lowercase3(s):\n",
    "    for c in s:\n",
    "        flag = c.islower()\n",
    "    return flag\n",
    "\n",
    "def any_lowercase4(s):\n",
    "    flag = False\n",
    "    for c in s:\n",
    "        flag = flag or c.islower()\n",
    "    return flag\n",
    "\n",
    "def any_lowercase5(s):\n",
    "    for c in s:\n",
    "        if not c.islower():\n",
    "            return False\n",
    "        else:\n",
    "            return True\n",
    "print(any_lowercase1(strtest))\n",
    "print(any_lowercase2(strtest))\n",
    "print(any_lowercase3(strtest))\n",
    "print(any_lowercase4(strtest))\n",
    "print(any_lowercase5(strtest))"
   ]
  },
  {
   "cell_type": "code",
   "execution_count": null,
   "metadata": {},
   "outputs": [],
   "source": [
    "#Exercise 5 in chapter8\n",
    "def rotate_letter(letter, n):\n",
    "    if letter.isupper():\n",
    "        start = ord('A')\n",
    "    elif letter.islower():\n",
    "        start = ord('a')\n",
    "    else:\n",
    "        return letter\n",
    "    i = ord(letter) + n\n",
    "    return chr(i)\n",
    "def rotate_word(word, n):\n",
    "    res = ''\n",
    "    for letter in word:\n",
    "        res += rotate_letter(letter, n)\n",
    "    return res\n",
    "print(rotate_word('cheer', 7))\n",
    "print(rotate_word('Cheer', 7))"
   ]
  },
  {
   "cell_type": "code",
   "execution_count": 29,
   "metadata": {},
   "outputs": [
    {
     "name": "stdout",
     "output_type": "stream",
     "text": [
      "please input convergence criterion :0.01\n",
      "please input a sentinel value : 20\n",
      "draw limit was exceeded  20 the percentage difference between the current estimate of Pi and the true value 4.507034144862795 %\n",
      "Simulating pi is 3.0\n"
     ]
    }
   ],
   "source": [
    "#Lab03-2\n",
    "def simulating_pi1(s,v):\n",
    "    simulating = True # use as a sentinel\n",
    "    n = 0\n",
    "    d = 0\n",
    "    while simulating:\n",
    "        x = random.random()\n",
    "        y = random.random()\n",
    "        if x**2 + y**2 <= 1.0:\n",
    "            n += 1\n",
    "        d += 1\n",
    "        ratio = 4 * n * 1./d\n",
    "        if d<v:           \n",
    "            if abs(ratio-pi) / pi <= s:\n",
    "                print(\"Draws needed: \", d,\"the percentage difference between the current estimate of Pi and the true value\",abs(ratio-pi) / pi*100,'%')\n",
    "                print('Simulating pi is',ratio)\n",
    "                break\n",
    "        else:\n",
    "            print(\"draw limit was exceeded \", d,\"the percentage difference between the current estimate of Pi and the true value\",abs(ratio-pi) / pi*100,'%')\n",
    "            print('Simulating pi is',ratio)\n",
    "            break\n",
    "s=input('please input convergence criterion :')\n",
    "s=float(s)\n",
    "v=input('please input a sentinel value : ')\n",
    "v=int(v)\n",
    "simulating_pi1(s,v)"
   ]
  },
  {
   "cell_type": "code",
   "execution_count": 71,
   "metadata": {},
   "outputs": [
    {
     "name": "stdout",
     "output_type": "stream",
     "text": [
      "When the convergence criterion is 0.00001, the average value of siulating pi from 10 runs is 3.141566462468607\n",
      "When the convergence criterion is 0.00001, the average number of draws from 10 runs is 188914.8\n",
      "When the convergence criterion is 0.00001, the standard deviation of the number of draws from 10 runs is 50.51296863182761\n",
      "When the convergence criterion is 0.0001, the average value of siulating pi from 10 runs is 3.141506490179585\n",
      "When the convergence criterion is 0.0001, the average number of draws from 10 runs is 2010.5\n",
      "When the convergence criterion is 0.0001, the standard deviation of the number of draws from 10 runs is 47.030309375975826\n",
      "When the convergence criterion is 0.001, the average value of siulating pi from 10 runs is 3.1413952867227244\n",
      "When the convergence criterion is 0.001, the average number of draws from 10 runs is 127.2\n",
      "When the convergence criterion is 0.001, the standard deviation of the number of draws from 10 runs is 25.93376177880872\n",
      "When the convergence criterion is 0.01, the average value of siulating pi from 10 runs is 3.1461928840465814\n",
      "When the convergence criterion is 0.01, the average number of draws from 10 runs is 34.3\n",
      "When the convergence criterion is 0.01, the standard deviation of the number of draws from 10 runs is 13.813399291991816\n"
     ]
    }
   ],
   "source": [
    "import random\n",
    "import math\n",
    "import matplotlib.pyplot as plt\n",
    "from numpy import *\n",
    "pi = math.pi # our benchmark that we want to estimate using simulation\n",
    "n = 0\n",
    "d = 0\n",
    "i = 0\n",
    "simulating_pi=[]\n",
    "draw=[]\n",
    "while i < 10:\n",
    "    simulating = True # use as a sentinel\n",
    "    while simulating:\n",
    "        x = random.random()\n",
    "        y = random.random()\n",
    "        if x**2 + y**2 <= 1.0:\n",
    "            n += 1\n",
    "        d += 1\n",
    "        ratio = 4 * n * 1./d\n",
    "        if abs(ratio-pi) / pi <= 0.00001:\n",
    "            simulating_pi.append(ratio)\n",
    "            draw.append(d)\n",
    "            break\n",
    "    i=i+1\n",
    "print('When the convergence criterion is 0.00001, the average value of siulating pi from 10 runs is',mean(simulating_pi))\n",
    "print('When the convergence criterion is 0.00001, the average number of draws from 10 runs is',mean(draw))\n",
    "print('When the convergence criterion is 0.00001, the standard deviation of the number of draws from 10 runs is',std(draw))\n",
    "n = 0\n",
    "d = 0\n",
    "i = 0\n",
    "simulating_pi=[]\n",
    "draw=[]\n",
    "while i < 10:\n",
    "    simulating = True # use as a sentinel\n",
    "    while simulating:\n",
    "        x = random.random()\n",
    "        y = random.random()\n",
    "        if x**2 + y**2 <= 1.0:\n",
    "            n += 1\n",
    "        d += 1\n",
    "        ratio = 4 * n * 1./d\n",
    "        if abs(ratio-pi) / pi <= 0.0001:\n",
    "            simulating_pi.append(ratio)\n",
    "            draw.append(d)\n",
    "            break\n",
    "    i=i+1\n",
    "print('When the convergence criterion is 0.0001, the average value of siulating pi from 10 runs is',mean(simulating_pi))\n",
    "print('When the convergence criterion is 0.0001, the average number of draws from 10 runs is',mean(draw))\n",
    "print('When the convergence criterion is 0.0001, the standard deviation of the number of draws from 10 runs is',std(draw))\n",
    "n = 0\n",
    "d = 0\n",
    "i = 0\n",
    "simulating_pi=[]\n",
    "draw=[]\n",
    "while i < 10:\n",
    "    simulating = True # use as a sentinel\n",
    "    while simulating:\n",
    "        x = random.random()\n",
    "        y = random.random()\n",
    "        if x**2 + y**2 <= 1.0:\n",
    "            n += 1\n",
    "        d += 1\n",
    "        ratio = 4 * n * 1./d\n",
    "        if abs(ratio-pi) / pi <= 0.001:\n",
    "            simulating_pi.append(ratio)\n",
    "            draw.append(d)\n",
    "            break\n",
    "    i=i+1\n",
    "print('When the convergence criterion is 0.001, the average value of siulating pi from 10 runs is',mean(simulating_pi))\n",
    "print('When the convergence criterion is 0.001, the average number of draws from 10 runs is',mean(draw))\n",
    "print('When the convergence criterion is 0.001, the standard deviation of the number of draws from 10 runs is',std(draw))\n",
    "n = 0\n",
    "d = 0\n",
    "i = 0\n",
    "simulating_pi=[]\n",
    "draw=[]\n",
    "while i < 10:\n",
    "    simulating = True # use as a sentinel\n",
    "    while simulating:\n",
    "        x = random.random()\n",
    "        y = random.random()\n",
    "        if x**2 + y**2 <= 1.0:\n",
    "            n += 1\n",
    "        d += 1\n",
    "        ratio = 4 * n * 1./d\n",
    "        if abs(ratio-pi) / pi <= 0.01:\n",
    "            simulating_pi.append(ratio)\n",
    "            draw.append(d)\n",
    "            break\n",
    "    i=i+1\n",
    "print('When the convergence criterion is 0.01, the average value of siulating pi from 10 runs is',mean(simulating_pi))\n",
    "print('When the convergence criterion is 0.01, the average number of draws from 10 runs is',mean(draw))\n",
    "print('When the convergence criterion is 0.01, the standard deviation of the number of draws from 10 runs is',std(draw))"
   ]
  }
 ],
 "metadata": {
  "kernelspec": {
   "display_name": "Python 3",
   "language": "python",
   "name": "python3"
  },
  "language_info": {
   "codemirror_mode": {
    "name": "ipython",
    "version": 3
   },
   "file_extension": ".py",
   "mimetype": "text/x-python",
   "name": "python",
   "nbconvert_exporter": "python",
   "pygments_lexer": "ipython3",
   "version": "3.8.5"
  }
 },
 "nbformat": 4,
 "nbformat_minor": 4
}
