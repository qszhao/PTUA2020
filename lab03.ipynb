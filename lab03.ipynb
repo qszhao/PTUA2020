{
 "cells": [
  {
   "cell_type": "code",
   "execution_count": 1,
   "metadata": {},
   "outputs": [],
   "source": [
    "import random\n",
    "import math\n",
    "import matplotlib.pyplot as plt"
   ]
  },
  {
   "cell_type": "code",
   "execution_count": 25,
   "metadata": {},
   "outputs": [],
   "source": [
    "pi = math.pi # our benchmark that we want to estimate using simulation"
   ]
  },
  {
   "cell_type": "code",
   "execution_count": 23,
   "metadata": {},
   "outputs": [
    {
     "name": "stdout",
     "output_type": "stream",
     "text": [
      "And now for something completely different 17 3.141592653589793\n"
     ]
    }
   ],
   "source": [
    "message = 'And now for something completely different'\n",
    "n = 17\n",
    "pi1 = 3.1415926535897932\n",
    "print(message,n,pi);"
   ]
  },
  {
   "cell_type": "code",
   "execution_count": 13,
   "metadata": {},
   "outputs": [],
   "source": [
    "#Exercise 1 in chapter2\n",
    "#1.NO\n",
    "#2 Legal\n",
    "#3.Do not change\n",
    "#4.invalid syntax\n",
    "#5.The name of a variable"
   ]
  },
  {
   "cell_type": "code",
   "execution_count": 21,
   "metadata": {},
   "outputs": [],
   "source": [
    "x=y=1;\n",
    "z=xy\n",
    "print(z)"
   ]
  },
  {
   "cell_type": "code",
   "execution_count": null,
   "metadata": {},
   "outputs": [],
   "source": [
    "#Exercise 2 in chapter2"
   ]
  },
  {
   "cell_type": "code",
   "execution_count": 28,
   "metadata": {},
   "outputs": [
    {
     "name": "stdout",
     "output_type": "stream",
     "text": [
      "25.132741228718345\n"
     ]
    }
   ],
   "source": [
    "ball_Volume=4/3*pi*float(5^3)\n",
    "print(ball_Volume)"
   ]
  },
  {
   "cell_type": "code",
   "execution_count": 3,
   "metadata": {},
   "outputs": [
    {
     "name": "stdout",
     "output_type": "stream",
     "text": [
      "The total wholesale cost for 60 copies is 945.4499999999999\n"
     ]
    }
   ],
   "source": [
    "price=24.95\n",
    "discount=0.6\n",
    "book=60\n",
    "shipping_cost=3+(book-1)*0.75\n",
    "total_price=price*discount*book+shipping_cost\n",
    "print('The total wholesale cost for 60 copies is',total_price)"
   ]
  },
  {
   "cell_type": "code",
   "execution_count": 58,
   "metadata": {},
   "outputs": [
    {
     "name": "stdout",
     "output_type": "stream",
     "text": [
      "90\n",
      "Breakfast time is 7 : 31 : 6\n"
     ]
    }
   ],
   "source": [
    "time=8*60*2+15*2+7*3*60+12*3\n",
    "m, s = divmod(time, 60)\n",
    "h, m = divmod(m, 60)\n",
    "h,m,s\n",
    "time1=6*60*60+52*60\n",
    "m1, s1 = divmod(time1, 60)\n",
    "h1, m1 = divmod(m1, 60)\n",
    "print(m1+m)\n",
    "s2=s1+s\n",
    "if s2>60:\n",
    "   s2=s2-60\n",
    "   m1=m1+1\n",
    "   m2=m1+m\n",
    "   if s2>60:\n",
    "      h=h+1\n",
    "      h2=h1+h\n",
    "   else:\n",
    "      h2=h1+h\n",
    "else:\n",
    "   m1=m1+1\n",
    "   m2=m1+m\n",
    "   if m2>60:\n",
    "      h=h+1\n",
    "      h2=h1+h\n",
    "      m2=m2-60\n",
    "   else:\n",
    "      h2=h1+h\n",
    "print('Breakfast time is',h2,':',m2,':',s2)"
   ]
  },
  {
   "cell_type": "code",
   "execution_count": null,
   "metadata": {},
   "outputs": [],
   "source": []
  }
 ],
 "metadata": {
  "kernelspec": {
   "display_name": "Python 3",
   "language": "python",
   "name": "python3"
  },
  "language_info": {
   "codemirror_mode": {
    "name": "ipython",
    "version": 3
   },
   "file_extension": ".py",
   "mimetype": "text/x-python",
   "name": "python",
   "nbconvert_exporter": "python",
   "pygments_lexer": "ipython3",
   "version": "3.8.5"
  }
 },
 "nbformat": 4,
 "nbformat_minor": 4
}
